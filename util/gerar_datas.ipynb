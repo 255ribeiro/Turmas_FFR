{
 "cells": [
  {
   "cell_type": "code",
   "execution_count": 20,
   "id": "f5e7f8b1",
   "metadata": {},
   "outputs": [
    {
     "name": "stdout",
     "output_type": "stream",
     "text": [
      "   Aulas        Data  Dia               Assunto\n",
      "1     01  01/09/2025  seg                      \n",
      "2     02  05/09/2025  sex                      \n",
      "3     03  08/09/2025  seg                      \n",
      "4     04  12/09/2025  sex                      \n",
      "5     05  15/09/2025  seg                      \n",
      "6     06  19/09/2025  sex                      \n",
      "7     07  22/09/2025  seg                      \n",
      "8     08  26/09/2025  sex                      \n",
      "9     09  29/09/2025  seg                      \n",
      "10    10  03/10/2025  sex                      \n",
      "11    11  06/10/2025  seg                      \n",
      "12    12  10/10/2025  sex                      \n",
      "13    13  13/10/2025  seg                      \n",
      "14    14  17/10/2025  sex                      \n",
      "15    15  20/10/2025  seg                      \n",
      "16    16  24/10/2025  sex                      \n",
      "17    17  27/10/2025  seg                      \n",
      "18    18  31/10/2025  sex                      \n",
      "19    19  03/11/2025  seg                      \n",
      "20    20  07/11/2025  sex                      \n",
      "21    21  10/11/2025  seg                      \n",
      "22    22  14/11/2025  sex                      \n",
      "23    23  17/11/2025  seg                      \n",
      "24    24  21/11/2025  sex                      \n",
      "25    25  24/11/2025  seg                      \n",
      "26    26  28/11/2025  sex                      \n",
      "27    27  01/12/2025  seg                      \n",
      "28    28  05/12/2025  sex                      \n",
      "29    29  08/12/2025  seg                      \n",
      "30    30  12/12/2025  sex                      \n",
      "31    31  15/12/2025  seg                      \n",
      "32    32  19/12/2025  sex                      \n",
      "33    33  22/12/2025  seg                      \n"
     ]
    }
   ],
   "source": [
    "import pandas as pd\n",
    "from datetime import datetime, timedelta\n",
    "\n",
    "# Set the beginning and end dates\n",
    "start_date = datetime(2025, 9, 1)\n",
    "end_date = datetime(2025, 12, 22)\n",
    "\n",
    "# Create a range of dates between the start and end dates\n",
    "all_dates = pd.date_range(start=start_date, end=end_date, freq='D')\n",
    "\n",
    "# Filter the dates to only include Mondays and Saturdays\n",
    "filtro_por_dias_semana = all_dates[all_dates.day_of_week.isin([0,4])]\n",
    "\n",
    "\n",
    "\n",
    "# Create the data frame\n",
    "df = pd.DataFrame(\n",
    "    {'Aulas': [f\"{i:02}\" for i in range(1, len(filtro_por_dias_semana) + 1)],\n",
    "     'Data': filtro_por_dias_semana}\n",
    ")\n",
    "df.index = df.index + 1\n",
    "# Add a column with the day of the week for each date in Portuguese\n",
    "day_translation = {\n",
    "    'Monday': 'seg', 'Tuesday': 'ter', 'Wednesday': 'qua', \n",
    "    'Thursday': 'qui', 'Friday': 'sex', 'Saturday': 'sab', 'Sunday': 'dom'\n",
    "}\n",
    "df['Dia'] = df['Data'].dt.day_name().map(day_translation)\n",
    "\n",
    "# Add a column with a default value and set its width to 20 characters\n",
    "df['Assunto'] = \" \".ljust(20)\n",
    "df['Data'] = df['Data'].dt.strftime('%d/%m/%Y')\n",
    "print(df)\n",
    "\n",
    "\n",
    "df.to_markdown('cronograma_topo.md', index=False, colalign=('center', 'center', 'center', 'center'))"
   ]
  },
  {
   "cell_type": "code",
   "execution_count": null,
   "id": "10c6b16c",
   "metadata": {},
   "outputs": [],
   "source": []
  }
 ],
 "metadata": {
  "kernelspec": {
   "display_name": "turmas-ffr-py3.12",
   "language": "python",
   "name": "python3"
  },
  "language_info": {
   "codemirror_mode": {
    "name": "ipython",
    "version": 3
   },
   "file_extension": ".py",
   "mimetype": "text/x-python",
   "name": "python",
   "nbconvert_exporter": "python",
   "pygments_lexer": "ipython3",
   "version": "3.12.4"
  }
 },
 "nbformat": 4,
 "nbformat_minor": 5
}
