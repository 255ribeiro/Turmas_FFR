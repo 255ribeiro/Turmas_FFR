{
 "cells": [
  {
   "cell_type": "code",
   "execution_count": 23,
   "id": "e3d276a9",
   "metadata": {},
   "outputs": [],
   "source": [
    "import numpy as np\n",
    "import pandas as pd"
   ]
  },
  {
   "cell_type": "code",
   "execution_count": 24,
   "id": "b87b9cd2",
   "metadata": {},
   "outputs": [],
   "source": [
    "# número de grupos\n",
    "num_grp = 12\n",
    "# número de temas\n",
    "num_temas = 7\n",
    "# nome do arquivo\n",
    "filename = \"MPSD_AV2\""
   ]
  },
  {
   "cell_type": "code",
   "execution_count": 25,
   "id": "91f1a970",
   "metadata": {},
   "outputs": [
    {
     "name": "stdout",
     "output_type": "stream",
     "text": [
      "Grupo: [ 1  2  3  4  5  6  7  8  9 10 11 12]\n",
      "Temas: [1 2 3 4 5 6 7]\n"
     ]
    }
   ],
   "source": [
    "grupos = np.arange(num_grp) + 1\n",
    "temas = np.arange(num_temas) + 1\n",
    "print('Grupo: {}\\nTemas: {}'.format(grupos,temas))"
   ]
  },
  {
   "cell_type": "code",
   "execution_count": 26,
   "id": "82196e97",
   "metadata": {},
   "outputs": [
    {
     "name": "stdout",
     "output_type": "stream",
     "text": [
      "Grupo: 03 --> tema: 03\n",
      "Grupo: 12 --> tema: 07\n",
      "Grupo: 02 --> tema: 01\n",
      "Grupo: 08 --> tema: 06\n",
      "Grupo: 10 --> tema: 05\n",
      "Grupo: 04 --> tema: 04\n",
      "Grupo: 06 --> tema: 02\n",
      "Grupo: 01 --> tema: 05\n",
      "Grupo: 05 --> tema: 03\n",
      "Grupo: 11 --> tema: 06\n",
      "Grupo: 09 --> tema: 07\n",
      "Grupo: 07 --> tema: 01\n"
     ]
    }
   ],
   "source": [
    "df = pd.DataFrame(columns=['Grupo', 'Tema'])\n",
    "tema_aux = temas.copy()\n",
    "grupos_aux = grupos.copy()\n",
    "\n",
    "while grupos_aux.size != 0: # para todos os grupos\n",
    "    if tema_aux.size == 0:\n",
    "        tema_aux = temas\n",
    "    grp_sort = np.random.choice(grupos_aux.size)\n",
    "    tema_sort = np.random.choice(tema_aux.size)\n",
    "    d_aux = {'Grupo' : int(grupos_aux[grp_sort]), 'Tema': int(tema_aux[tema_sort])}\n",
    "    print('Grupo: {:02d} --> tema: {:02d}'.format(d_aux['Grupo'], d_aux['Tema']))\n",
    "    grupos_aux =  np.delete(grupos_aux, grp_sort)\n",
    "    tema_aux = np.delete(tema_aux, tema_sort)\n",
    "    df = pd.concat([df, pd.DataFrame(d_aux, [0])])\n",
    "# Ordenando resultados\n",
    "df.sort_values('Grupo', inplace=True)\n",
    "# refazendo indices\n",
    "df.reset_index(drop=True, inplace=True)\n"
   ]
  },
  {
   "cell_type": "code",
   "execution_count": 27,
   "id": "11893d58",
   "metadata": {},
   "outputs": [
    {
     "data": {
      "application/vnd.microsoft.datawrangler.viewer.v0+json": {
       "columns": [
        {
         "name": "index",
         "rawType": "int64",
         "type": "integer"
        },
        {
         "name": "Grupo",
         "rawType": "object",
         "type": "unknown"
        },
        {
         "name": "Tema",
         "rawType": "object",
         "type": "unknown"
        }
       ],
       "conversionMethod": "pd.DataFrame",
       "ref": "6117e5f9-f153-4329-aacb-4562c2a307d2",
       "rows": [
        [
         "0",
         "1",
         "5"
        ],
        [
         "1",
         "2",
         "1"
        ],
        [
         "2",
         "3",
         "3"
        ],
        [
         "3",
         "4",
         "4"
        ],
        [
         "4",
         "5",
         "3"
        ],
        [
         "5",
         "6",
         "2"
        ],
        [
         "6",
         "7",
         "1"
        ],
        [
         "7",
         "8",
         "6"
        ],
        [
         "8",
         "9",
         "7"
        ],
        [
         "9",
         "10",
         "5"
        ],
        [
         "10",
         "11",
         "6"
        ],
        [
         "11",
         "12",
         "7"
        ]
       ],
       "shape": {
        "columns": 2,
        "rows": 12
       }
      },
      "text/html": [
       "<div>\n",
       "<style scoped>\n",
       "    .dataframe tbody tr th:only-of-type {\n",
       "        vertical-align: middle;\n",
       "    }\n",
       "\n",
       "    .dataframe tbody tr th {\n",
       "        vertical-align: top;\n",
       "    }\n",
       "\n",
       "    .dataframe thead th {\n",
       "        text-align: right;\n",
       "    }\n",
       "</style>\n",
       "<table border=\"1\" class=\"dataframe\">\n",
       "  <thead>\n",
       "    <tr style=\"text-align: right;\">\n",
       "      <th></th>\n",
       "      <th>Grupo</th>\n",
       "      <th>Tema</th>\n",
       "    </tr>\n",
       "  </thead>\n",
       "  <tbody>\n",
       "    <tr>\n",
       "      <th>0</th>\n",
       "      <td>1</td>\n",
       "      <td>5</td>\n",
       "    </tr>\n",
       "    <tr>\n",
       "      <th>1</th>\n",
       "      <td>2</td>\n",
       "      <td>1</td>\n",
       "    </tr>\n",
       "    <tr>\n",
       "      <th>2</th>\n",
       "      <td>3</td>\n",
       "      <td>3</td>\n",
       "    </tr>\n",
       "    <tr>\n",
       "      <th>3</th>\n",
       "      <td>4</td>\n",
       "      <td>4</td>\n",
       "    </tr>\n",
       "    <tr>\n",
       "      <th>4</th>\n",
       "      <td>5</td>\n",
       "      <td>3</td>\n",
       "    </tr>\n",
       "    <tr>\n",
       "      <th>5</th>\n",
       "      <td>6</td>\n",
       "      <td>2</td>\n",
       "    </tr>\n",
       "    <tr>\n",
       "      <th>6</th>\n",
       "      <td>7</td>\n",
       "      <td>1</td>\n",
       "    </tr>\n",
       "    <tr>\n",
       "      <th>7</th>\n",
       "      <td>8</td>\n",
       "      <td>6</td>\n",
       "    </tr>\n",
       "    <tr>\n",
       "      <th>8</th>\n",
       "      <td>9</td>\n",
       "      <td>7</td>\n",
       "    </tr>\n",
       "    <tr>\n",
       "      <th>9</th>\n",
       "      <td>10</td>\n",
       "      <td>5</td>\n",
       "    </tr>\n",
       "    <tr>\n",
       "      <th>10</th>\n",
       "      <td>11</td>\n",
       "      <td>6</td>\n",
       "    </tr>\n",
       "    <tr>\n",
       "      <th>11</th>\n",
       "      <td>12</td>\n",
       "      <td>7</td>\n",
       "    </tr>\n",
       "  </tbody>\n",
       "</table>\n",
       "</div>"
      ],
      "text/plain": [
       "   Grupo Tema\n",
       "0      1    5\n",
       "1      2    1\n",
       "2      3    3\n",
       "3      4    4\n",
       "4      5    3\n",
       "5      6    2\n",
       "6      7    1\n",
       "7      8    6\n",
       "8      9    7\n",
       "9     10    5\n",
       "10    11    6\n",
       "11    12    7"
      ]
     },
     "execution_count": 27,
     "metadata": {},
     "output_type": "execute_result"
    }
   ],
   "source": [
    "df.head(num_grp)"
   ]
  },
  {
   "cell_type": "code",
   "execution_count": 28,
   "id": "7244ace3",
   "metadata": {},
   "outputs": [],
   "source": [
    "df.to_excel(filename + '.xlsx', index = False )"
   ]
  }
 ],
 "metadata": {
  "kernelspec": {
   "display_name": ".venv",
   "language": "python",
   "name": "python3"
  },
  "language_info": {
   "codemirror_mode": {
    "name": "ipython",
    "version": 3
   },
   "file_extension": ".py",
   "mimetype": "text/x-python",
   "name": "python",
   "nbconvert_exporter": "python",
   "pygments_lexer": "ipython3",
   "version": "3.10.6"
  }
 },
 "nbformat": 4,
 "nbformat_minor": 5
}
