{
  "nbformat": 4,
  "nbformat_minor": 0,
  "metadata": {
    "colab": {
      "provenance": []
    },
    "kernelspec": {
      "name": "python3",
      "display_name": "Python 3"
    },
    "language_info": {
      "name": "python"
    }
  },
  "cells": [
    {
      "cell_type": "code",
      "execution_count": null,
      "metadata": {
        "id": "S6icqLZRikeC"
      },
      "outputs": [],
      "source": [
        "#Av1 - Modelagem paramétrica e simulações digitais\n",
        "#Equipe: Beatriz ávila, Maria Luiza Alixandre, Mariana Moraes, Milena Lopes e Miguel Cardoso"
      ]
    },
    {
      "cell_type": "code",
      "source": [
        "#Entrada de dados\n",
        "#Cota inicial do primeiro pavimento:\n",
        "cota_init = float(input(\"valor da cota inicial\\n\"))"
      ],
      "metadata": {
        "colab": {
          "base_uri": "https://localhost:8080/"
        },
        "id": "qtgDfDgojeU3",
        "outputId": "a6f1fab9-7454-447d-a199-17937e7f343e"
      },
      "execution_count": null,
      "outputs": [
        {
          "name": "stdout",
          "output_type": "stream",
          "text": [
            "valor da cota inicial\n",
            "0\n"
          ]
        }
      ]
    },
    {
      "cell_type": "code",
      "source": [
        "#Número total de pavimentos\n",
        "n_pav = int(input(\"Numero de pavimentos\\n\"))"
      ],
      "metadata": {
        "colab": {
          "base_uri": "https://localhost:8080/"
        },
        "id": "MRsVGOS2jzt_",
        "outputId": "dee632bc-ca37-4c71-fb91-96242f3f60ee"
      },
      "execution_count": null,
      "outputs": [
        {
          "name": "stdout",
          "output_type": "stream",
          "text": [
            "Numero de pavimentos\n",
            "15\n"
          ]
        }
      ]
    },
    {
      "cell_type": "code",
      "source": [
        "#Distância entre pisos (piso a piso)\n",
        "pap = float(input(\"valor da distância de piso a piso\\n\"))"
      ],
      "metadata": {
        "colab": {
          "base_uri": "https://localhost:8080/"
        },
        "id": "dgYSHqFij5_X",
        "outputId": "a318256b-bc2e-435a-df0c-3e0d487363ab"
      },
      "execution_count": null,
      "outputs": [
        {
          "name": "stdout",
          "output_type": "stream",
          "text": [
            "valor da distância de piso a piso\n",
            "3\n"
          ]
        }
      ]
    },
    {
      "cell_type": "code",
      "source": [
        "#Lista para armazenar as cotas dos pavimentos\n",
        "cotas = []"
      ],
      "metadata": {
        "id": "uXja_WBzj-4v"
      },
      "execution_count": null,
      "outputs": []
    },
    {
      "cell_type": "code",
      "source": [
        "#Cálculo das cotas para cada pavimento\n",
        "for i in range(n_pav):\n",
        "    cotas.append(cota_init + (i * pap)) #Adiciona a cota correspondente ao pavimento atual\n",
        "    print(len(cotas)) #Exibe a quantidade de cotas já adicionadas (opcional para depuração)"
      ],
      "metadata": {
        "colab": {
          "base_uri": "https://localhost:8080/"
        },
        "id": "hNFykXhgkBle",
        "outputId": "c618be93-05d9-44cf-b84b-88e71ddbd416"
      },
      "execution_count": null,
      "outputs": [
        {
          "output_type": "stream",
          "name": "stdout",
          "text": [
            "1\n",
            "2\n",
            "3\n",
            "4\n",
            "5\n",
            "6\n",
            "7\n",
            "8\n",
            "9\n",
            "10\n",
            "11\n",
            "12\n",
            "13\n",
            "14\n",
            "15\n"
          ]
        }
      ]
    },
    {
      "cell_type": "code",
      "source": [
        "#Exibe a lista completa de cotas calculadas\n",
        "print(cotas)"
      ],
      "metadata": {
        "colab": {
          "base_uri": "https://localhost:8080/"
        },
        "id": "Fsrqc0hQkE8W",
        "outputId": "1bc4bd32-7e1b-4cf6-e018-011bd4f38323"
      },
      "execution_count": null,
      "outputs": [
        {
          "output_type": "stream",
          "name": "stdout",
          "text": [
            "[0.0, 3.0, 6.0, 9.0, 12.0, 15.0, 18.0, 21.0, 24.0, 27.0, 30.0, 33.0, 36.0, 39.0, 42.0]\n"
          ]
        }
      ]
    }
  ]
}