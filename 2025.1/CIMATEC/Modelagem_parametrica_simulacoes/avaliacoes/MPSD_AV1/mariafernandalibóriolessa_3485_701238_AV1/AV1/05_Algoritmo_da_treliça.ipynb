{
  "nbformat": 4,
  "nbformat_minor": 0,
  "metadata": {
    "colab": {
      "provenance": []
    },
    "kernelspec": {
      "name": "python3",
      "display_name": "Python 3"
    },
    "language_info": {
      "name": "python"
    }
  },
  "cells": [
    {
      "cell_type": "code",
      "source": [
        "#AV1 Modelagem paramétrica e simulações digitais\n",
        "#Equipe: Larissa Rios, Sofia Brêda, Gabriella Carvalho, Maria Fernanda Libório"
      ],
      "metadata": {
        "id": "I3HPdICQChSQ"
      },
      "execution_count": null,
      "outputs": []
    },
    {
      "cell_type": "code",
      "execution_count": null,
      "metadata": {
        "id": "5NjShb6mcG8O"
      },
      "outputs": [],
      "source": [
        "import numpy as np # Importa a biblioteca NumPy para operações numéricas\n",
        "import matplotlib.pyplot as plt # Importa a biblioteca Matplotlib para criar gráficos\n"
      ]
    },
    {
      "cell_type": "code",
      "source": [
        "# entradas\n",
        "comp = 15 #float # Comprimento da treliça (float)\n",
        "h = 1.75 #float # Altura da treliça (float)\n",
        "n_nos = 25 # int"
      ],
      "metadata": {
        "id": "lBeGpd8XcSGt"
      },
      "execution_count": null,
      "outputs": []
    },
    {
      "cell_type": "code",
      "source": [
        "# Gera coordenadas x igualmente espaçadas ao longo do comprimento\n",
        "coord_x = np.linspace(0,comp, n_nos)\n",
        "coord_y1 = [0]* n_nos # Linha inferior (todos os pontos com y = 0)\n",
        "coord_y2 = [h]* n_nos # Linha superior (todos os pontos com y = altura)"
      ],
      "metadata": {
        "id": "hmuTdrGIeRaZ"
      },
      "execution_count": null,
      "outputs": []
    },
    {
      "cell_type": "code",
      "source": [
        "# Cria uma lista de índices de 0 a n_nos - 1\n",
        "list(range(n_nos))"
      ],
      "metadata": {
        "colab": {
          "base_uri": "https://localhost:8080/"
        },
        "id": "C9AVgro7inxW",
        "outputId": "74433f94-b724-4445-8539-74e44b4cd692"
      },
      "execution_count": null,
      "outputs": [
        {
          "output_type": "execute_result",
          "data": {
            "text/plain": [
              "[0,\n",
              " 1,\n",
              " 2,\n",
              " 3,\n",
              " 4,\n",
              " 5,\n",
              " 6,\n",
              " 7,\n",
              " 8,\n",
              " 9,\n",
              " 10,\n",
              " 11,\n",
              " 12,\n",
              " 13,\n",
              " 14,\n",
              " 15,\n",
              " 16,\n",
              " 17,\n",
              " 18,\n",
              " 19,\n",
              " 20,\n",
              " 21,\n",
              " 22,\n",
              " 23,\n",
              " 24]"
            ]
          },
          "metadata": {},
          "execution_count": 6
        }
      ]
    },
    {
      "cell_type": "code",
      "source": [
        "# Cria os valores de y para formar a linha diagonal alternada (zigue-zague)\n",
        "diag_y = []\n",
        "for i in range(n_nos):\n",
        "    if i % 2 == 0: # Se o índice for par\n",
        "        diag_y.append(0) # Ponto na linha inferior\n",
        "    else: # Se o índice for ímpar\n",
        "        diag_y.append(h) # Ponto na linha superior\n",
        "print(diag_y) # Mostra os valores alternados (zigue-zague)"
      ],
      "metadata": {
        "colab": {
          "base_uri": "https://localhost:8080/"
        },
        "id": "grN5H-yyiimi",
        "outputId": "420d4b7c-6e65-497c-b637-16517c83a4a8"
      },
      "execution_count": null,
      "outputs": [
        {
          "output_type": "stream",
          "name": "stdout",
          "text": [
            "[0, 1.75, 0, 1.75, 0, 1.75, 0, 1.75, 0, 1.75, 0, 1.75, 0, 1.75, 0, 1.75, 0, 1.75, 0, 1.75, 0, 1.75, 0, 1.75, 0]\n"
          ]
        }
      ]
    },
    {
      "cell_type": "code",
      "source": [
        "# Cria a figura e o sistema de eixos para o gráfico\n",
        "fig, ax = plt.subplots()\n",
        "\n",
        "ax.set_title(\"Treliça\") # Define o título do gráfico\n",
        "ax.scatter(coord_x, coord_y1, marker= \"o\") # Pontos (nós)\n",
        "ax.plot(coord_x, coord_y1) # Linha conectando os pontos\n",
        "\n",
        "# Plota os pontos e a linha da parte superior da treliça\n",
        "ax.scatter(coord_x, coord_y2) # Pontos superiores\n",
        "ax.plot(coord_x, coord_y2) # Linha superior\n",
        "\n",
        "# Plota a linha alternada (zigue-zague) entre os nós superior e inferior\n",
        "ax.plot(coord_x, diag_y)\n",
        "ax.axis('off') # Remove os eixos do gráfico para uma visualização mais limpa\n",
        "ax.set_aspect(\"equal\") # Garante proporção 1:1 entre os eixos (escala real)\n",
        "\n"
      ],
      "metadata": {
        "colab": {
          "base_uri": "https://localhost:8080/",
          "height": 117
        },
        "id": "DQwGF_qofFr2",
        "outputId": "762d8211-04be-4df0-ef88-1fe7a05e4628"
      },
      "execution_count": null,
      "outputs": [
        {
          "output_type": "display_data",
          "data": {
            "text/plain": [
              "<Figure size 640x480 with 1 Axes>"
            ],
            "image/png": "[encoded data removed]"
          },
          "metadata": {}
        }
      ]
    },
    {
      "cell_type": "code",
      "source": [
        "5//2, 5 % 2\n",
        "# Exemplos de operações: divisão inteira (//) e resto da divisão (%)"
      ],
      "metadata": {
        "id": "bOQj9n8PiWUh",
        "colab": {
          "base_uri": "https://localhost:8080/"
        },
        "outputId": "3b10fcbe-1389-4fea-95a9-7d5aece396a2"
      },
      "execution_count": null,
      "outputs": [
        {
          "output_type": "execute_result",
          "data": {
            "text/plain": [
              "(2, 1)"
            ]
          },
          "metadata": {},
          "execution_count": 9
        }
      ]
    }
  ]
}