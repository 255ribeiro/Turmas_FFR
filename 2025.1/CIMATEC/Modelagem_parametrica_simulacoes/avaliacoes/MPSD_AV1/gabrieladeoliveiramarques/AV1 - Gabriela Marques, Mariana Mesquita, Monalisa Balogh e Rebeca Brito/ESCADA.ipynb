{
  "nbformat": 4,
  "nbformat_minor": 0,
  "metadata": {
    "colab": {
      "provenance": []
    },
    "kernelspec": {
      "name": "python3",
      "display_name": "Python 3"
    },
    "language_info": {
      "name": "python"
    }
  },
  "cells": [
    {
      "cell_type": "code",
      "execution_count": 2,
      "metadata": {
        "colab": {
          "base_uri": "https://localhost:8080/"
        },
        "id": "LRPAF65vrjAM",
        "outputId": "d837b39b-6a37-4e1e-f020-49c8fe882bf0"
      },
      "outputs": [
        {
          "output_type": "stream",
          "name": "stdout",
          "text": [
            "Digite a altura total entre os pavimentos (em metros): 4\n",
            "\n",
            "=== Resultado do Cálculo da Escada ===\n",
            "Número de espelhos: 23\n",
            "Altura de cada espelho: 0.174 metros\n",
            "Profundidade estimada de cada piso: 0.292 metros\n"
          ]
        }
      ],
      "source": [
        "# AV1 - Modelagem Paramétrica\n",
        "\n",
        "# GRUPO:\n",
        "# - Gabriela Marques\n",
        "# - Mariana Mesquita\n",
        "# - Monalisa Balogh\n",
        "# - Rebeca Brito\n",
        "\n",
        "# Importando função ceil\n",
        "import math\n",
        "\n",
        "# Solicitar ao usuário a altura entre os pavimentos\n",
        "altura_total = float(input(\"Digite a altura total entre os pavimentos (em metros): \"))\n",
        "\n",
        "# Definir a altura máxima permitida para os espelhos (degraus)\n",
        "altura_maxima_espelho = 0.18  # metros\n",
        "\n",
        "# Calcula o menor número inteiro de espelhos necessário na escada\n",
        "num_espelhos = math.ceil(altura_total / altura_maxima_espelho)\n",
        "\n",
        "# Calcula a altura real de cada espelho da escada\n",
        "altura_espelho_real = altura_total / num_espelhos\n",
        "\n",
        "# Usa a fórmula de Blondel (2e + p ≈ 0.64) para estimar profundidade do piso\n",
        "# e = altura do espelho, p = profundidade do piso\n",
        "profundidade_piso = 0.64 - (2 * altura_espelho_real)\n",
        "\n",
        "# Exibe os resultados formatados com 3 casas decimais\n",
        "print(\"\\n=== Resultado do Cálculo da Escada ===\")\n",
        "print(f\"Número de espelhos: {num_espelhos}\")\n",
        "print(f\"Altura de cada espelho: {altura_espelho_real:.3f} metros\")\n",
        "print(f\"Profundidade estimada de cada piso: {profundidade_piso:.3f} metros\")"
      ]
    }
  ]
}