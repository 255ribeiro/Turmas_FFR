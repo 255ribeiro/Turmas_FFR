{
  "nbformat": 4,
  "nbformat_minor": 0,
  "metadata": {
    "colab": {
      "provenance": []
    },
    "kernelspec": {
      "name": "python3",
      "display_name": "Python 3"
    },
    "language_info": {
      "name": "python"
    }
  },
  "cells": [
    {
      "cell_type": "code",
      "execution_count": 2,
      "metadata": {
        "colab": {
          "base_uri": "https://localhost:8080/"
        },
        "id": "XwmeDNFswY1w",
        "outputId": "62ec22dd-e750-4a71-864a-12e15f2a203d"
      },
      "outputs": [
        {
          "output_type": "stream",
          "name": "stdout",
          "text": [
            "Digite a cota inicial (em metros): 5\n",
            "Digite a altura entre pavimentos (em metros))8\n",
            "Digite a altura máxima do edifício (em metros)29\n",
            "\n",
            "=== Cotas dos Pavimentos ===\n",
            "Nível 0: 5.00 m\n",
            "Nível 1: 13.00 m\n",
            "\n",
            "=== Cotas dos Pavimentos ===\n",
            "Nível 0: 5.00 m\n",
            "Nível 1: 13.00 m\n",
            "Nível 2: 21.00 m\n",
            "\n",
            "=== Cotas dos Pavimentos ===\n",
            "Nível 0: 5.00 m\n",
            "Nível 1: 13.00 m\n",
            "Nível 2: 21.00 m\n",
            "Nível 3: 29.00 m\n"
          ]
        }
      ],
      "source": [
        "# AV1 - Modelagem Paramétrica\n",
        "\n",
        "# GRUPO:\n",
        "# - Gabriela Marques\n",
        "# - Mariana Mesquita\n",
        "# - Monalisa Balogh\n",
        "# - Rebeca Brito\n",
        "\n",
        "# Entrada de dados\n",
        "cota_inicial = float(input(\"Digite a cota inicial (em metros): \"))\n",
        "altura_pavimento = float(input(\"Digite a altura entre pavimentos (em metros))\"))\n",
        "altura_maxima_total = float(input(\"Digite a altura máxima do edifício (em metros)\"))\n",
        "\n",
        "# Lista de armazenar as cotas presentes\n",
        "cotas = [cota_inicial]\n",
        "\n",
        "# Cálculo das cotas: somando enquanto não ultrapassar a altura máxima permitida\n",
        "proxima_cota = cota_inicial + altura_pavimento\n",
        "\n",
        "while proxima_cota <= (cota_inicial + altura_maxima_total):\n",
        "  cotas.append(proxima_cota)\n",
        "  proxima_cota += altura_pavimento\n",
        "\n",
        "  # Exibindo as cotas formatadas\n",
        "  print(\"\\n=== Cotas dos Pavimentos ===\")\n",
        "  for i, cota in enumerate(cotas):\n",
        "    print(f\"Nível {i}: {cota:.2f} m\")\n"
      ]
    }
  ]
}