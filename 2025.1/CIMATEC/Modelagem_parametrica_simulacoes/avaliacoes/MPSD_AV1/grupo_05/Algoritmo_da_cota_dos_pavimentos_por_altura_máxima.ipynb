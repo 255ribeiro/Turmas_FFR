{
  "nbformat": 4,
  "nbformat_minor": 0,
  "metadata": {
    "colab": {
      "provenance": []
    },
    "kernelspec": {
      "name": "python3",
      "display_name": "Python 3"
    },
    "language_info": {
      "name": "python"
    }
  },
  "cells": [
    {
      "cell_type": "code",
      "execution_count": 6,
      "metadata": {
        "colab": {
          "base_uri": "https://localhost:8080/"
        },
        "id": "WM1n32YT1wu_",
        "outputId": "154a5165-3e97-4087-d833-ed87b524ff5f"
      },
      "outputs": [
        {
          "output_type": "stream",
          "name": "stdout",
          "text": [
            "entre com a cota do terreno3\n",
            "entre com a distância de piso a piso3\n",
            "entre com o valor máximo de altura50\n",
            "3.0\n",
            "6.0\n",
            "9.0\n",
            "12.0\n",
            "15.0\n",
            "18.0\n",
            "21.0\n",
            "24.0\n",
            "27.0\n",
            "30.0\n",
            "33.0\n",
            "36.0\n",
            "39.0\n",
            "42.0\n",
            "45.0\n",
            "48.0\n",
            "total de pisos: 16\n"
          ]
        }
      ],
      "source": [
        "#AV1 Modelagem Paramétrica e Simulações Digitais\n",
        "\n",
        "#equipe: Beatriz Ávila, Maria Luiza Alixandre, Mariana Moraes, Miguel Cardoso, Milena Lopes\n",
        "\n",
        "# entradas do usuário:\n",
        "cota_piso = float(input(\"entre com a cota do terreno\"))\n",
        "pap = float(input(\"entre com a distância de piso a piso\"))\n",
        "cota_max = float(input(\"entre com o valor máximo de altura\"))\n",
        "\n",
        "count = 0\n",
        "while cota_piso <= cota_max: # verifica se a cota_piso atual ainda está dentro do limite (cota_max)\n",
        "  count = count + 1 # a cada iteração, incrementa o contador de pisos\n",
        "  print(cota_piso) # imprime a cota do piso atual\n",
        "  cota_piso = cota_piso + pap # adiciona a distância entre os pisos (pap) à cota_piso para simular a construção do róximo pavimento\n",
        "print(\"total de pisos:\", count) #imprime o total de pisos que podem ser construídos (count)\n",
        "\n"
      ]
    }
  ]
}