{
  "nbformat": 4,
  "nbformat_minor": 0,
  "metadata": {
    "colab": {
      "provenance": []
    },
    "kernelspec": {
      "name": "python3",
      "display_name": "Python 3"
    },
    "language_info": {
      "name": "python"
    }
  },
  "cells": [
    {
      "cell_type": "code",
      "execution_count": null,
      "metadata": {
        "id": "YY-lr58tcWcN"
      },
      "outputs": [],
      "source": [
        "#Av1 - Modelagem paramétrica e simulações digitais\n",
        "#Equipe: Beatriz ávila, Maria Luiza Alixandre, Mariana Moraes, Milena Lopes e Miguel Cardoso"
      ]
    },
    {
      "cell_type": "code",
      "source": [
        "#Importando Biblioteca\n",
        "import math"
      ],
      "metadata": {
        "id": "87oKqfT5dZRd"
      },
      "execution_count": null,
      "outputs": []
    },
    {
      "cell_type": "code",
      "source": [
        "#Entrada de dados\n",
        "dist = float(input(\"Entre com a distância entre pavimentos (em metros): \"))\n",
        "h_max = float(input(\"Entre com o valor máximo do espelho (em metros): \"))"
      ],
      "metadata": {
        "colab": {
          "base_uri": "https://localhost:8080/"
        },
        "id": "H2q7r3jPdg7o",
        "outputId": "ff0ec79d-985e-4a9b-c6d7-bf83dea12573"
      },
      "execution_count": null,
      "outputs": [
        {
          "name": "stdout",
          "output_type": "stream",
          "text": [
            "Entre com a distância entre pavimentos (em metros): 3\n",
            "Entre com o valor máximo do espelho (em metros): 0.18\n"
          ]
        }
      ]
    },
    {
      "cell_type": "code",
      "source": [
        "#Verificando os tipos\n",
        "print(\"Tipos de dados:\", type(dist), type(h_max))"
      ],
      "metadata": {
        "colab": {
          "base_uri": "https://localhost:8080/"
        },
        "id": "F86EqkOSeXbr",
        "outputId": "c3633d7e-cd39-4acd-e5f4-cc37770a2b53"
      },
      "execution_count": null,
      "outputs": [
        {
          "output_type": "stream",
          "name": "stdout",
          "text": [
            "Tipos de dados: <class 'float'> <class 'float'>\n"
          ]
        }
      ]
    },
    {
      "cell_type": "code",
      "source": [
        "#Calculando o número de espelhos\n",
        "valor_01 = dist / h_max\n",
        "print(\"Valor bruto da divisão:\", valor_01)\n",
        "\n",
        "#Arredondamento pra cima\n",
        "num_esp = math.ceil(valor_01)\n",
        "print(\"Número de espelhos:\", num_esp)"
      ],
      "metadata": {
        "colab": {
          "base_uri": "https://localhost:8080/"
        },
        "id": "3z81HMTPexo1",
        "outputId": "dba39f01-992f-4605-d104-5c164b480c3e"
      },
      "execution_count": null,
      "outputs": [
        {
          "output_type": "stream",
          "name": "stdout",
          "text": [
            "Valor bruto da divisão: 16.666666666666668\n",
            "Número de espelhos: 17\n"
          ]
        }
      ]
    },
    {
      "cell_type": "code",
      "source": [
        "#Calculando altura dos espelhos\n",
        "h = dist / num_esp\n",
        "print(\"Altura dos espelhos:\", h)"
      ],
      "metadata": {
        "colab": {
          "base_uri": "https://localhost:8080/"
        },
        "id": "3q9df7h-e9w5",
        "outputId": "4fd63f3b-c14f-4a5b-bd0e-b62441fde0d5"
      },
      "execution_count": null,
      "outputs": [
        {
          "output_type": "stream",
          "name": "stdout",
          "text": [
            "Altura dos espelhos: 0.17647058823529413\n"
          ]
        }
      ]
    },
    {
      "cell_type": "code",
      "source": [
        "#Fórmula de Blondel para calcular a profundidade do piso (p)\n",
        "p = 0.64 - 2 * h\n",
        "print(\"Profundidade do piso:\", p)"
      ],
      "metadata": {
        "colab": {
          "base_uri": "https://localhost:8080/"
        },
        "id": "Cg2XG2-bfIi0",
        "outputId": "7944fece-b354-407e-c71f-9a278dd44f62"
      },
      "execution_count": null,
      "outputs": [
        {
          "output_type": "stream",
          "name": "stdout",
          "text": [
            "Profundidade do piso: 0.28705882352941176\n"
          ]
        }
      ]
    }
  ]
}