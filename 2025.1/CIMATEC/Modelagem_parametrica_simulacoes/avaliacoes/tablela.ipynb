{
 "cells": [
  {
   "cell_type": "code",
   "execution_count": 1,
   "metadata": {},
   "outputs": [],
   "source": [
    "import pandas as pd"
   ]
  },
  {
   "cell_type": "code",
   "execution_count": null,
   "metadata": {},
   "outputs": [
    {
     "data": {
      "text/html": [
       "<div>\n",
       "<style scoped>\n",
       "    .dataframe tbody tr th:only-of-type {\n",
       "        vertical-align: middle;\n",
       "    }\n",
       "\n",
       "    .dataframe tbody tr th {\n",
       "        vertical-align: top;\n",
       "    }\n",
       "\n",
       "    .dataframe thead th {\n",
       "        text-align: right;\n",
       "    }\n",
       "</style>\n",
       "<table border=\"1\" class=\"dataframe\">\n",
       "  <thead>\n",
       "    <tr style=\"text-align: right;\">\n",
       "      <th></th>\n",
       "      <th>RA</th>\n",
       "      <th>Nome</th>\n",
       "      <th>Nascimento</th>\n",
       "      <th>status</th>\n",
       "    </tr>\n",
       "  </thead>\n",
       "  <tbody>\n",
       "    <tr>\n",
       "      <th>0</th>\n",
       "      <td>1T1.833932</td>\n",
       "      <td>Alice Mascarenhas Venas</td>\n",
       "      <td>21/09/2003</td>\n",
       "      <td>Matriculado</td>\n",
       "    </tr>\n",
       "    <tr>\n",
       "      <th>1</th>\n",
       "      <td>1T1.833938</td>\n",
       "      <td>Alice Pinheiro Matos</td>\n",
       "      <td>06/08/2003</td>\n",
       "      <td>Matriculado</td>\n",
       "    </tr>\n",
       "    <tr>\n",
       "      <th>2</th>\n",
       "      <td>162.632052</td>\n",
       "      <td>Allan Claudio Cruz Souza Silva</td>\n",
       "      <td>18/02/2000</td>\n",
       "      <td>Matriculado</td>\n",
       "    </tr>\n",
       "    <tr>\n",
       "      <th>3</th>\n",
       "      <td>1T1.844624</td>\n",
       "      <td>Bianca Bahia Carreiro</td>\n",
       "      <td>02/04/2004</td>\n",
       "      <td>Matriculado</td>\n",
       "    </tr>\n",
       "    <tr>\n",
       "      <th>4</th>\n",
       "      <td>1T1.890731</td>\n",
       "      <td>Brisa Bessa Alonso</td>\n",
       "      <td>07/07/1986</td>\n",
       "      <td>Matriculado</td>\n",
       "    </tr>\n",
       "  </tbody>\n",
       "</table>\n",
       "</div>"
      ],
      "text/plain": [
       "           RA                            Nome  Nascimento       status\n",
       "0  1T1.833932         Alice Mascarenhas Venas  21/09/2003  Matriculado\n",
       "1  1T1.833938            Alice Pinheiro Matos  06/08/2003  Matriculado\n",
       "2  162.632052  Allan Claudio Cruz Souza Silva  18/02/2000  Matriculado\n",
       "3  1T1.844624           Bianca Bahia Carreiro  02/04/2004  Matriculado\n",
       "4  1T1.890731              Brisa Bessa Alonso  07/07/1986  Matriculado"
      ]
     },
     "execution_count": 18,
     "metadata": {},
     "output_type": "execute_result"
    }
   ],
   "source": [
    "df = pd.read_csv(\"ALUNOS.tsv\", sep=\"\\t\", header=None)\n",
    "\n",
    "df.drop([0,1], axis=1, inplace=True)\n",
    "\n",
    "df.columns =[ \"RA\",  \"Nome\",  \"Nascimento\",  \"status\"]  #(columns={\"2\": \"RA\", \"3\": \"Nome\", \"4\": \"Nascimento\", \"5\": \"status\"}, inplace=True)\n",
    "df.head()"
   ]
  },
  {
   "cell_type": "code",
   "execution_count": 14,
   "metadata": {},
   "outputs": [],
   "source": [
    "df.to_csv(\"alunos.csv\")"
   ]
  }
 ],
 "metadata": {
  "kernelspec": {
   "display_name": ".venv",
   "language": "python",
   "name": "python3"
  },
  "language_info": {
   "codemirror_mode": {
    "name": "ipython",
    "version": 3
   },
   "file_extension": ".py",
   "mimetype": "text/x-python",
   "name": "python",
   "nbconvert_exporter": "python",
   "pygments_lexer": "ipython3",
   "version": "3.10.6"
  }
 },
 "nbformat": 4,
 "nbformat_minor": 2
}
